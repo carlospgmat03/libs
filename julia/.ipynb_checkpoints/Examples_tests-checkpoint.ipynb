{
 "cells": [
  {
   "cell_type": "markdown",
   "metadata": {},
   "source": [
    "# Preparation"
   ]
  },
  {
   "cell_type": "markdown",
   "metadata": {},
   "source": [
    "To initialize Julia edit startup.jl on _/etc/julia/startup.jl_ and add _\"push!(LOAD_PATH,\"/home/folder/to/custom/libraries/\");\"_"
   ]
  },
  {
   "cell_type": "code",
   "execution_count": 3,
   "metadata": {},
   "outputs": [],
   "source": [
    "using quantum\n",
    "using rmt\n",
    "using LinearAlgebra"
   ]
  },
  {
   "cell_type": "markdown",
   "metadata": {},
   "source": [
    "# Spin chains"
   ]
  },
  {
   "cell_type": "code",
   "execution_count": 4,
   "metadata": {},
   "outputs": [],
   "source": [
    "\"\"\"\n",
    "Se construye la parte de Ising de una cadena abierta homogenea\n",
    "\"\"\"\n",
    "function apply_open_chain!(psi,J)\n",
    "    qubits=trailing_zeros(length(psi))\n",
    "    for i in 0:(qubits-2) \n",
    "        apply_ising!(psi,J,i,i+1)\n",
    "    end\n",
    "end\n",
    "\"\"\"\n",
    "Se construye la parte de Ising inhomogenea\n",
    "\"\"\"\n",
    "function apply_open_inhomogeneous_chain!(psi,J_hom,J_inhom)\n",
    "    qubits=trailing_zeros(length(psi))\n",
    "    apply_open_chain!(psi,J_hom)\n",
    "    apply_ising!(psi,J_inhom-J_hom,Int(round(qubits/2)-1),Int(round(qubits/2)))\n",
    "end\n",
    "\"\"\"\n",
    "Se construye la parte del campo de una cadena de espines\n",
    "\"\"\"\n",
    "function apply_magnetic_kick!(psi,b)\n",
    "    qubits=trailing_zeros(length(psi))\n",
    "    for i in 0:(qubits-1) \n",
    "        apply_kick!(psi,b,i)\n",
    "    end\n",
    "end;"
   ]
  },
  {
   "cell_type": "code",
   "execution_count": 5,
   "metadata": {},
   "outputs": [],
   "source": [
    "\"\"\"\n",
    "floquet_open_chain(J,bx,bz,qubits::Int) Operador de Floquet de una cadena abierta y homogenea\n",
    "\"\"\"\n",
    "function floquet_open_chain(J,b,qubits::Int)\n",
    "    dim=Int(2^qubits)\n",
    "    u=zeros(Complex{Float64},dim,dim)\n",
    "    for i in range(0,dim)\n",
    "        psi=copy(base_state(i,dim))\n",
    "        apply_open_chain!(psi,J)\n",
    "        apply_magnetic_kick!(psi,b)\n",
    "        u[:,i+1]=psi\n",
    "    end\n",
    "    return u\n",
    "end\n",
    "\n",
    "\"\"\"\n",
    "floquet_open_inhomogeneous_chain(J_hom,J_inhom,bx,bz,qubits::Int) Operador de Floquet de una cadena abierta \n",
    "e inhomogenea\n",
    "\"\"\"\n",
    "function floquet_open_inhomogeneous_chain(J_hom,J_inhom,b,qubits::Int)\n",
    "    dim=Int(2^qubits)\n",
    "    u=zeros(Complex{Float64},dim,dim)\n",
    "    for i=0:(dim-1)\n",
    "        #@show i\n",
    "        psi=copy(base_state(i,dim))\n",
    "        #@show \"hola 1\", i\n",
    "        apply_open_inhomogeneous_chain!(psi,J_hom,J_inhom)\n",
    "        #@show \"hola 2\", i\n",
    "\n",
    "        apply_magnetic_kick!(psi,b)\n",
    "        u[:,i+1]=psi\n",
    "    end\n",
    "    return u \n",
    "end\n",
    "\n",
    "function floquet_chain(J_hom,J_inhom,J_hom_2,J_inhom_2,b,b2,qubits::Int)\n",
    "    dim=Int(2^qubits)\n",
    "    u=zeros(Complex{Float64},dim,dim)\n",
    "    for i in range(0,dim)\n",
    "        psi=copy(base_state(i,dim))\n",
    "        apply_magnetic_kick!(psi,b)\n",
    "        apply_open_inhomogeneous_chain!(psi,J_hom,J_inhom)\n",
    "        apply_magnetic_kick!(psi,b2)\n",
    "        apply_open_inhomogeneous_chain!(psi,J_hom_2,J_inhom_2)\n",
    "        u[:,i+1]=psi\n",
    "    end\n",
    "    return u \n",
    "end;"
   ]
  },
  {
   "cell_type": "code",
   "execution_count": 6,
   "metadata": {},
   "outputs": [],
   "source": [
    "U_KI=floquet_open_inhomogeneous_chain(1.0,4.0,[1.4,0.0,1.4],11);"
   ]
  },
  {
   "cell_type": "markdown",
   "metadata": {},
   "source": [
    "## Test con propagadores construidos explicitamente"
   ]
  },
  {
   "cell_type": "code",
   "execution_count": 9,
   "metadata": {},
   "outputs": [
    {
     "data": {
      "text/plain": [
       "sigma_term (generic function with 1 method)"
      ]
     },
     "execution_count": 9,
     "metadata": {},
     "output_type": "execute_result"
    }
   ],
   "source": [
    "function ising_term(qubits::Int,target_1::Int=1,target_2::Int=target_1+1)\n",
    "    \n",
    "    array=Array{Float64,2}[]\n",
    "    \n",
    "    for i in range(1,qubits)\n",
    "        \n",
    "        if i==target_1\n",
    "            push!(array,sigma_z)\n",
    "            elseif i==target_2\n",
    "            push!(array,sigma_z)\n",
    "        else\n",
    "            push!(array,eye(2)) \n",
    "        end\n",
    "        \n",
    "    end\n",
    "    \n",
    "    return kron(array...)\n",
    "    \n",
    "end\n",
    "\n",
    "function sigma_term(qubits::Int,target::Int,j::Int)\n",
    "    array=Array{Complex{Float64},2}[]\n",
    "    \n",
    "    for i in range(1,qubits)\n",
    "        if i==target\n",
    "            push!(array,sigmas[j])\n",
    "        else\n",
    "            push!(array,eye(2))\n",
    "        end\n",
    "    end\n",
    "    return kron(array...)\n",
    "end"
   ]
  },
  {
   "cell_type": "markdown",
   "metadata": {},
   "source": [
    "### Hamiltonianos"
   ]
  },
  {
   "cell_type": "code",
   "execution_count": 11,
   "metadata": {},
   "outputs": [
    {
     "data": {
      "text/plain": [
       "ham_field_hom (generic function with 1 method)"
      ]
     },
     "execution_count": 11,
     "metadata": {},
     "output_type": "execute_result"
    }
   ],
   "source": [
    "function ham_ising_open_hom(qubits::Int,J)\n",
    "    \n",
    "    h=zeros(Int(2^qubits),Int(2^qubits))\n",
    "    \n",
    "    for i in range(1,qubits-1)\n",
    "        h=ising_term(qubits,i)+h\n",
    "    end\n",
    "    \n",
    "    return J*h\n",
    "    \n",
    "end\n",
    "\n",
    "function ham_ising_open_inhom(qubits::Int,J_hom,J_inhom)\n",
    "    \n",
    "    h=zeros(Int(2^qubits),Int(2^qubits))\n",
    "    for i in range(1,qubits-1)\n",
    "        h=ising_term(qubits,i)+h\n",
    "    end\n",
    "    h=J_hom*h+ising_term(qubits,Int(round(qubits/2)-1))*(J_inhom-J_hom)\n",
    "    \n",
    "    return h\n",
    "    \n",
    "end\n",
    "\n",
    "\n",
    "function ham_field_hom(qubits::Int,b_x,b_z)\n",
    "    \n",
    "    h=zeros(Int(2^qubits),Int(2^qubits))\n",
    "    \n",
    "    for i in range(1,qubits)\n",
    "        h=b_x*sigma_term(qubits,i,1)+b_z*sigma_term(qubits,i,3)+h\n",
    "    end\n",
    "    \n",
    "    return h\n",
    "    \n",
    "end"
   ]
  },
  {
   "cell_type": "code",
   "execution_count": 12,
   "metadata": {},
   "outputs": [
    {
     "ename": "ArgumentError",
     "evalue": "ArgumentError: At least one of `length` or `step` must be specified",
     "output_type": "error",
     "traceback": [
      "ArgumentError: At least one of `length` or `step` must be specified",
      "",
      "Stacktrace:",
      " [1] _range2(::Int64, ::Nothing, ::Int64, ::Nothing) at ./range.jl:94",
      " [2] range(::Int64, ::Int64; length::Nothing, step::Nothing) at ./range.jl:91",
      " [3] range(::Int64, ::Int64) at ./range.jl:91",
      " [4] ham_ising_open_inhom(::Int64, ::Float64, ::Float64) at ./In[11]:16",
      " [5] top-level scope at In[12]:4"
     ]
    }
   ],
   "source": [
    "# Se comparan los operadores de floquet de la cadena inhomogenea con acoplamientos Ising aleatorios\n",
    "J_hom=rand(1)[]\n",
    "J_inhom=rand(1)[]\n",
    "H_I=ham_ising_open_inhom(7,J_hom,J_inhom);\n",
    "H_K=ham_field_hom(7,2.0,1.0);"
   ]
  },
  {
   "cell_type": "markdown",
   "metadata": {},
   "source": [
    "# RMT"
   ]
  },
  {
   "cell_type": "code",
   "execution_count": null,
   "metadata": {},
   "outputs": [],
   "source": []
  },
  {
   "cell_type": "code",
   "execution_count": null,
   "metadata": {},
   "outputs": [],
   "source": []
  },
  {
   "cell_type": "markdown",
   "metadata": {},
   "source": [
    "# Permutations and development of"
   ]
  },
  {
   "cell_type": "code",
   "execution_count": 7,
   "metadata": {},
   "outputs": [
    {
     "ename": "ErrorException",
     "evalue": "syntax: invalid syntax &true",
     "output_type": "error",
     "traceback": [
      "syntax: invalid syntax &true",
      "",
      "Stacktrace:",
      " [1] top-level scope at /home/david/.julia/packages/IJulia/DrVMH/src/kernel.jl:52"
     ]
    }
   ],
   "source": [
    "true &&& true"
   ]
  },
  {
   "cell_type": "code",
   "execution_count": 8,
   "metadata": {},
   "outputs": [
    {
     "name": "stdout",
     "output_type": "stream",
     "text": [
      "search: \u001b[0m\u001b[1m&\u001b[22m\n",
      "\n"
     ]
    },
    {
     "data": {
      "text/latex": [
       "\\begin{verbatim}\n",
       "&(x, y)\n",
       "\\end{verbatim}\n",
       "Bitwise and. Implements \\href{https://en.wikipedia.org/wiki/Three-valued_logic}{three-valued logic}, returning \\href{@ref}{\\texttt{missing}} if one operand is \\texttt{missing} and the other is \\texttt{true}.\n",
       "\n",
       "\\section{Examples}\n",
       "\\begin{verbatim}\n",
       "julia> 4 & 10\n",
       "0\n",
       "\n",
       "julia> 4 & 12\n",
       "4\n",
       "\n",
       "julia> true & missing\n",
       "missing\n",
       "\n",
       "julia> false & missing\n",
       "false\n",
       "\\end{verbatim}\n"
      ],
      "text/markdown": [
       "```\n",
       "&(x, y)\n",
       "```\n",
       "\n",
       "Bitwise and. Implements [three-valued logic](https://en.wikipedia.org/wiki/Three-valued_logic), returning [`missing`](@ref) if one operand is `missing` and the other is `true`.\n",
       "\n",
       "# Examples\n",
       "\n",
       "```jldoctest\n",
       "julia> 4 & 10\n",
       "0\n",
       "\n",
       "julia> 4 & 12\n",
       "4\n",
       "\n",
       "julia> true & missing\n",
       "missing\n",
       "\n",
       "julia> false & missing\n",
       "false\n",
       "```\n"
      ],
      "text/plain": [
       "\u001b[36m  &(x, y)\u001b[39m\n",
       "\n",
       "  Bitwise and. Implements three-valued logic\n",
       "  (https://en.wikipedia.org/wiki/Three-valued_logic), returning \u001b[36mmissing\u001b[39m if one\n",
       "  operand is \u001b[36mmissing\u001b[39m and the other is \u001b[36mtrue\u001b[39m.\n",
       "\n",
       "\u001b[1m  Examples\u001b[22m\n",
       "\u001b[1m  ≡≡≡≡≡≡≡≡≡≡\u001b[22m\n",
       "\n",
       "\u001b[36m  julia> 4 & 10\u001b[39m\n",
       "\u001b[36m  0\u001b[39m\n",
       "\u001b[36m  \u001b[39m\n",
       "\u001b[36m  julia> 4 & 12\u001b[39m\n",
       "\u001b[36m  4\u001b[39m\n",
       "\u001b[36m  \u001b[39m\n",
       "\u001b[36m  julia> true & missing\u001b[39m\n",
       "\u001b[36m  missing\u001b[39m\n",
       "\u001b[36m  \u001b[39m\n",
       "\u001b[36m  julia> false & missing\u001b[39m\n",
       "\u001b[36m  false\u001b[39m"
      ]
     },
     "execution_count": 8,
     "metadata": {},
     "output_type": "execute_result"
    }
   ],
   "source": [
    "?&"
   ]
  },
  {
   "cell_type": "code",
   "execution_count": 9,
   "metadata": {},
   "outputs": [
    {
     "name": "stdout",
     "output_type": "stream",
     "text": [
      "search:\n",
      "\n"
     ]
    },
    {
     "data": {
      "text/latex": [
       "\\begin{verbatim}\n",
       "x && y\n",
       "\\end{verbatim}\n",
       "Short-circuiting boolean AND.\n",
       "\n"
      ],
      "text/markdown": [
       "```\n",
       "x && y\n",
       "```\n",
       "\n",
       "Short-circuiting boolean AND.\n"
      ],
      "text/plain": [
       "\u001b[36m  x && y\u001b[39m\n",
       "\n",
       "  Short-circuiting boolean AND."
      ]
     },
     "execution_count": 9,
     "metadata": {},
     "output_type": "execute_result"
    }
   ],
   "source": [
    "?&&"
   ]
  },
  {
   "cell_type": "code",
   "execution_count": 10,
   "metadata": {},
   "outputs": [
    {
     "ename": "LoadError",
     "evalue": "syntax: incomplete: premature end of input",
     "output_type": "error",
     "traceback": [
      "syntax: incomplete: premature end of input",
      ""
     ]
    }
   ],
   "source": [
    "if(true&&true,1,0)"
   ]
  },
  {
   "cell_type": "code",
   "execution_count": 16,
   "metadata": {},
   "outputs": [
    {
     "data": {
      "text/plain": [
       "1"
      ]
     },
     "execution_count": 16,
     "metadata": {},
     "output_type": "execute_result"
    }
   ],
   "source": [
    "if true & true\n",
    "    1\n",
    "else\n",
    "    caca\n",
    "end"
   ]
  },
  {
   "cell_type": "code",
   "execution_count": null,
   "metadata": {},
   "outputs": [],
   "source": []
  }
 ],
 "metadata": {
  "kernelspec": {
   "display_name": "Julia 1.4.2",
   "language": "julia",
   "name": "julia-1.4"
  },
  "language_info": {
   "file_extension": ".jl",
   "mimetype": "application/julia",
   "name": "julia",
   "version": "1.4.2"
  }
 },
 "nbformat": 4,
 "nbformat_minor": 4
}
