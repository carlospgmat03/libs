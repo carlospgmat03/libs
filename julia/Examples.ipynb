{
 "cells": [
  {
   "cell_type": "markdown",
   "metadata": {},
   "source": [
    "# Preparation"
   ]
  },
  {
   "cell_type": "markdown",
   "metadata": {},
   "source": [
    "To initialize Julia edit startup.jl on _/etc/julia/startup.jl_ and add _\"push!(LOAD_PATH,\"/home/folder/to/custom/libraries/\");\"_"
   ]
  },
  {
   "cell_type": "code",
   "execution_count": 1,
   "metadata": {},
   "outputs": [],
   "source": [
    "using quantum\n",
    "using rmt"
   ]
  },
  {
   "cell_type": "markdown",
   "metadata": {},
   "source": [
    "# Spin chains"
   ]
  },
  {
   "cell_type": "code",
   "execution_count": 2,
   "metadata": {},
   "outputs": [],
   "source": [
    "\"\"\"\n",
    "Se construye la parte de Ising de una cadena abierta homogenea\n",
    "\"\"\"\n",
    "function apply_open_chain!(psi,J)\n",
    "    qubits=trailing_zeros(length(psi))\n",
    "    for i in 0:(qubits-2) \n",
    "        apply_ising!(psi,J,i,i+1)\n",
    "    end\n",
    "end\n",
    "\"\"\"\n",
    "Se construye la parte de Ising inhomogenea\n",
    "\"\"\"\n",
    "function apply_open_inhomogeneous_chain!(psi,J_hom,J_inhom)\n",
    "    qubits=trailing_zeros(length(psi))\n",
    "    apply_open_chain!(psi,J_hom)\n",
    "    apply_ising!(psi,J_inhom-J_hom,Int(round(qubits/2)-1),Int(round(qubits/2)))\n",
    "end\n",
    "\"\"\"\n",
    "Se construye la parte del campo de una cadena de espines\n",
    "\"\"\"\n",
    "function apply_magnetic_kick!(psi,b)\n",
    "    qubits=trailing_zeros(length(psi))\n",
    "    for i in 0:(qubits-1) \n",
    "        apply_kick!(psi,b,i)\n",
    "    end\n",
    "end;"
   ]
  },
  {
   "cell_type": "markdown",
   "metadata": {},
   "source": [
    "# RMT"
   ]
  },
  {
   "cell_type": "code",
   "execution_count": null,
   "metadata": {},
   "outputs": [],
   "source": []
  },
  {
   "cell_type": "markdown",
   "metadata": {},
   "source": [
    "# Permutations and development of"
   ]
  },
  {
   "cell_type": "code",
   "execution_count": null,
   "metadata": {},
   "outputs": [],
   "source": []
  }
 ],
 "metadata": {
  "kernelspec": {
   "display_name": "Julia 1.4.2",
   "language": "julia",
   "name": "julia-1.4"
  },
  "language_info": {
   "file_extension": ".jl",
   "mimetype": "application/julia",
   "name": "julia",
   "version": "1.4.2"
  }
 },
 "nbformat": 4,
 "nbformat_minor": 4
}
