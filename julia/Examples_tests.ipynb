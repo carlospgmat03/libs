{
 "cells": [
  {
   "cell_type": "markdown",
   "metadata": {},
   "source": [
    "# Preparation"
   ]
  },
  {
   "cell_type": "markdown",
   "metadata": {},
   "source": [
    "To initialize Julia edit startup.jl on _~/.julia/config/startup.jl_ and add a line with _push!(LOAD_PATH,\"/home/folder/to/custom/libraries/\")_"
   ]
  },
  {
   "cell_type": "code",
   "execution_count": 1,
   "metadata": {},
   "outputs": [],
   "source": [
    "using quantum\n",
    "using rmt\n",
    "using LinearAlgebra"
   ]
  },
  {
   "cell_type": "markdown",
   "metadata": {},
   "source": [
    "# Spin chains"
   ]
  },
  {
   "cell_type": "code",
   "execution_count": 13,
   "metadata": {},
   "outputs": [],
   "source": [
    "\"\"\"\n",
    "Se construye la parte de Ising de una cadena abierta homogenea\n",
    "\"\"\"\n",
    "function apply_open_chain!(psi,J)\n",
    "    qubits=trailing_zeros(length(psi))\n",
    "    for i in 0:(qubits-2) \n",
    "        apply_ising!(psi,J,i,i+1)\n",
    "    end\n",
    "end\n",
    "\"\"\"\n",
    "Se construye la parte de Ising inhomogenea\n",
    "\"\"\"\n",
    "function apply_open_inhomogeneous_chain!(psi,J_hom,J_inhom)\n",
    "    qubits=trailing_zeros(length(psi))\n",
    "    apply_open_chain!(psi,J_hom)\n",
    "    apply_ising!(psi,J_inhom-J_hom,Int(round(qubits/2)-1),Int(round(qubits/2)))\n",
    "end\n",
    "\"\"\"\n",
    "Se construye la parte del campo de una cadena de espines\n",
    "\"\"\"\n",
    "function apply_magnetic_kick!(psi,b)\n",
    "    qubits=trailing_zeros(length(psi))\n",
    "    for i in 0:(qubits-1) \n",
    "        apply_kick!(psi,b,i)\n",
    "    end\n",
    "end;"
   ]
  },
  {
   "cell_type": "code",
   "execution_count": 14,
   "metadata": {},
   "outputs": [],
   "source": [
    "\"\"\"\n",
    "floquet_open_chain(J,bx,bz,qubits::Int) Operador de Floquet de una cadena abierta y homogenea\n",
    "\"\"\"\n",
    "function floquet_open_chain(J,b,qubits::Int)\n",
    "    dim=Int(2^qubits)\n",
    "    u=zeros(Complex{Float64},dim,dim)\n",
    "    for i in range(0,dim)\n",
    "        psi=copy(base_state(i,dim))\n",
    "        apply_open_chain!(psi,J)\n",
    "        apply_magnetic_kick!(psi,b)\n",
    "        u[:,i+1]=psi\n",
    "    end\n",
    "    return u\n",
    "end\n",
    "\n",
    "\"\"\"\n",
    "floquet_open_inhomogeneous_chain(J_hom,J_inhom,bx,bz,qubits::Int) Operador de Floquet de una cadena abierta \n",
    "e inhomogenea\n",
    "\"\"\"\n",
    "function floquet_open_inhomogeneous_chain(J_hom,J_inhom,b,qubits::Int)\n",
    "    dim=Int(2^qubits)\n",
    "    u=zeros(Complex{Float64},dim,dim)\n",
    "    for i=0:(dim-1)\n",
    "        #@show i\n",
    "        psi=copy(base_state(i,dim))\n",
    "        #@show \"hola 1\", i\n",
    "        apply_open_inhomogeneous_chain!(psi,J_hom,J_inhom)\n",
    "        #@show \"hola 2\", i\n",
    "\n",
    "        apply_magnetic_kick!(psi,b)\n",
    "        u[:,i+1]=psi\n",
    "    end\n",
    "    return u \n",
    "end\n",
    "\n",
    "function floquet_chain(J_hom,J_inhom,J_hom_2,J_inhom_2,b,b2,qubits::Int)\n",
    "    dim=Int(2^qubits)\n",
    "    u=zeros(Complex{Float64},dim,dim)\n",
    "    for i in range(0,dim,step=1)\n",
    "        psi=copy(base_state(i,dim))\n",
    "        apply_magnetic_kick!(psi,b)\n",
    "        apply_open_inhomogeneous_chain!(psi,J_hom,J_inhom)\n",
    "        apply_magnetic_kick!(psi,b2)\n",
    "        apply_open_inhomogeneous_chain!(psi,J_hom_2,J_inhom_2)\n",
    "        u[:,i+1]=psi\n",
    "    end\n",
    "    return u \n",
    "end;"
   ]
  },
  {
   "cell_type": "code",
   "execution_count": 15,
   "metadata": {},
   "outputs": [],
   "source": [
    "U_KI=floquet_open_inhomogeneous_chain(1.0,4.0,[1.4,0.0,1.4],11);"
   ]
  },
  {
   "cell_type": "markdown",
   "metadata": {},
   "source": [
    "## Test con propagadores construidos explicitamente"
   ]
  },
  {
   "cell_type": "code",
   "execution_count": 16,
   "metadata": {},
   "outputs": [
    {
     "data": {
      "text/plain": [
       "sigma_term (generic function with 1 method)"
      ]
     },
     "execution_count": 16,
     "metadata": {},
     "output_type": "execute_result"
    }
   ],
   "source": [
    "function ising_term(qubits::Int,target_1::Int=1,target_2::Int=target_1+1)\n",
    "    \n",
    "    array=Array{Float64,2}[]\n",
    "    \n",
    "    for i in range(1,qubits,step=1)\n",
    "        \n",
    "        if i==target_1\n",
    "            push!(array,sigma_z)\n",
    "            elseif i==target_2\n",
    "            push!(array,sigma_z)\n",
    "        else\n",
    "            push!(array,[[1,0] [0,1]]) \n",
    "        end\n",
    "        \n",
    "    end\n",
    "    \n",
    "    return kron(array...)\n",
    "    \n",
    "end\n",
    "\n",
    "function sigma_term(qubits::Int,target::Int,j::Int)\n",
    "    array=Array{Complex{Float64},2}[]\n",
    "    \n",
    "    for i in range(1,qubits,step=1)\n",
    "        if i==target\n",
    "            push!(array,sigmas[j])\n",
    "        else\n",
    "            push!(array,[[1,0] [0,1]])\n",
    "        end\n",
    "    end\n",
    "    return kron(array...)\n",
    "end"
   ]
  },
  {
   "cell_type": "markdown",
   "metadata": {},
   "source": [
    "test"
   ]
  },
  {
   "cell_type": "code",
   "execution_count": 67,
   "metadata": {},
   "outputs": [
    {
     "data": {
      "text/plain": [
       "0.0"
      ]
     },
     "execution_count": 67,
     "metadata": {},
     "output_type": "execute_result"
    }
   ],
   "source": [
    "state=random_state(4)\n",
    "init=state\n",
    "state=exp(-im*ising_term(2,0,1))*init\n",
    "apply_ising!(init,1,1,2)\n",
    "norm(init-state)"
   ]
  },
  {
   "cell_type": "markdown",
   "metadata": {},
   "source": [
    "### Hamiltonianos"
   ]
  },
  {
   "cell_type": "code",
   "execution_count": 69,
   "metadata": {},
   "outputs": [
    {
     "data": {
      "text/plain": [
       "ham_field_hom (generic function with 1 method)"
      ]
     },
     "execution_count": 69,
     "metadata": {},
     "output_type": "execute_result"
    }
   ],
   "source": [
    "function ham_ising_open_hom(qubits::Int,J)\n",
    "    \n",
    "    h=zeros(Int(2^qubits),Int(2^qubits))\n",
    "    \n",
    "    for i in range(1,qubits-1,step=1)\n",
    "        h=ising_term(qubits,i)+h\n",
    "    end\n",
    "    \n",
    "    return J*h\n",
    "    \n",
    "end\n",
    "\n",
    "function ham_ising_open_inhom(qubits::Int,J_hom,J_inhom)\n",
    "    \n",
    "    h=zeros(Int(2^qubits),Int(2^qubits))\n",
    "    for i in range(1,qubits-1,step=1)\n",
    "        h=ising_term(qubits,i)+h\n",
    "    end\n",
    "    h=J_hom*h+ising_term(qubits,Int(round(qubits/2)-1))*(J_inhom-J_hom)\n",
    "    \n",
    "    return h\n",
    "    \n",
    "end\n",
    "\n",
    "\n",
    "function ham_field_hom(qubits::Int,b_x,b_z)\n",
    "    \n",
    "    h=zeros(Int(2^qubits),Int(2^qubits))\n",
    "    \n",
    "    for i in range(1,qubits,step=1)\n",
    "        h=b_x*sigma_term(qubits,i,1)+b_z*sigma_term(qubits,i,3)+h\n",
    "    end\n",
    "    \n",
    "    return h\n",
    "    \n",
    "end"
   ]
  },
  {
   "cell_type": "code",
   "execution_count": 70,
   "metadata": {},
   "outputs": [],
   "source": [
    "# Se comparan los operadores de floquet de la cadena inhomogenea con acoplamientos Ising aleatorios\n",
    "J_hom=rand(1)[];\n",
    "J_inhom=rand(1)[];\n",
    "H_I=ham_ising_open_inhom(7,J_hom,J_inhom);\n",
    "H_K=ham_field_hom(7,2.0,1.0);"
   ]
  },
  {
   "cell_type": "code",
   "execution_count": 71,
   "metadata": {},
   "outputs": [],
   "source": [
    "U_I=exp(-1.0im*H_I);"
   ]
  },
  {
   "cell_type": "code",
   "execution_count": 72,
   "metadata": {},
   "outputs": [],
   "source": [
    "U_K=exp(-1.0im*H_K);"
   ]
  },
  {
   "cell_type": "code",
   "execution_count": 73,
   "metadata": {},
   "outputs": [],
   "source": [
    "U_KI=U_K*U_I;"
   ]
  },
  {
   "cell_type": "code",
   "execution_count": 74,
   "metadata": {},
   "outputs": [
    {
     "data": {
      "text/plain": [
       "1.929763173861869e-14"
      ]
     },
     "execution_count": 74,
     "metadata": {},
     "output_type": "execute_result"
    }
   ],
   "source": [
    "norm(U_KI-floquet_open_inhomogeneous_chain(J_hom,J_inhom,[2.0,0.0,1.0],7))"
   ]
  },
  {
   "cell_type": "markdown",
   "metadata": {
    "heading_collapsed": true
   },
   "source": [
    "# RMT"
   ]
  },
  {
   "cell_type": "code",
   "execution_count": null,
   "metadata": {
    "hidden": true
   },
   "outputs": [],
   "source": []
  },
  {
   "cell_type": "code",
   "execution_count": null,
   "metadata": {
    "hidden": true
   },
   "outputs": [],
   "source": []
  },
  {
   "cell_type": "markdown",
   "metadata": {},
   "source": [
    "# Permutations and development of related stuff"
   ]
  },
  {
   "cell_type": "code",
   "execution_count": 13,
   "metadata": {},
   "outputs": [],
   "source": [
    "using AbstractAlgebra\n",
    "using PyPlot"
   ]
  },
  {
   "cell_type": "code",
   "execution_count": 27,
   "metadata": {},
   "outputs": [
    {
     "data": {
      "text/plain": [
       "Full symmetric group over 2 elements"
      ]
     },
     "execution_count": 27,
     "metadata": {},
     "output_type": "execute_result"
    }
   ],
   "source": [
    "G=SymmetricGroup(2)"
   ]
  },
  {
   "cell_type": "code",
   "execution_count": 28,
   "metadata": {},
   "outputs": [],
   "source": [
    "list=[]\n",
    "for p in G\n",
    "    push!(list,matrix_repr(p))\n",
    "end"
   ]
  },
  {
   "cell_type": "code",
   "execution_count": 29,
   "metadata": {},
   "outputs": [
    {
     "data": {
      "image/png": "[encoded data removed]",
      "text/plain": [
       "Figure(PyObject <Figure size 480x480 with 1 Axes>)"
      ]
     },
     "metadata": {},
     "output_type": "display_data"
    },
    {
     "data": {
      "image/png": "[encoded data removed]",
      "text/plain": [
       "Figure(PyObject <Figure size 480x480 with 1 Axes>)"
      ]
     },
     "metadata": {},
     "output_type": "display_data"
    },
    {
     "data": {
      "text/plain": [
       "2-element Array{PyCall.PyObject,1}:\n",
       " PyObject <matplotlib.image.AxesImage object at 0x7f6f2bb0d110>\n",
       " PyObject <matplotlib.image.AxesImage object at 0x7f6f2bace150>"
      ]
     },
     "execution_count": 29,
     "metadata": {},
     "output_type": "execute_result"
    }
   ],
   "source": [
    "map(matshow,list)"
   ]
  },
  {
   "cell_type": "markdown",
   "metadata": {},
   "source": [
    "# Refreshing copy and other delicate stuff"
   ]
  },
  {
   "cell_type": "code",
   "execution_count": 7,
   "metadata": {},
   "outputs": [
    {
     "data": {
      "text/plain": [
       "4-element Array{Int64,1}:\n",
       " 2\n",
       " 0\n",
       " 1\n",
       " 0"
      ]
     },
     "execution_count": 7,
     "metadata": {},
     "output_type": "execute_result"
    }
   ],
   "source": [
    "a=[1,0,1,0]\n",
    "b=a\n",
    "a[1]=2\n",
    "b"
   ]
  },
  {
   "cell_type": "code",
   "execution_count": 8,
   "metadata": {},
   "outputs": [
    {
     "data": {
      "text/plain": [
       "4-element Array{Int64,1}:\n",
       " 1\n",
       " 0\n",
       " 1\n",
       " 0"
      ]
     },
     "execution_count": 8,
     "metadata": {},
     "output_type": "execute_result"
    }
   ],
   "source": [
    "a=[1,0,1,0]\n",
    "b=copy(a)\n",
    "a[1]=2\n",
    "b"
   ]
  },
  {
   "cell_type": "code",
   "execution_count": 9,
   "metadata": {},
   "outputs": [
    {
     "data": {
      "text/plain": [
       "4-element Array{Int64,1}:\n",
       " 2\n",
       " 0\n",
       " 1\n",
       " 0"
      ]
     },
     "execution_count": 9,
     "metadata": {},
     "output_type": "execute_result"
    }
   ],
   "source": [
    "a"
   ]
  },
  {
   "cell_type": "code",
   "execution_count": 19,
   "metadata": {},
   "outputs": [
    {
     "data": {
      "text/plain": [
       "2-element Array{Array{Int64,1},1}:\n",
       " [1, 2]\n",
       " [2, 1]"
      ]
     },
     "execution_count": 19,
     "metadata": {},
     "output_type": "execute_result"
    }
   ],
   "source": [
    "a=[[1,2],[2,1]]\n",
    "b=copy(a)\n",
    "a[1]=[4,5]\n",
    "b"
   ]
  },
  {
   "cell_type": "code",
   "execution_count": 20,
   "metadata": {},
   "outputs": [
    {
     "data": {
      "text/plain": [
       "2-element Array{Array{Int64,1},1}:\n",
       " [1, 3]\n",
       " [2, 1]"
      ]
     },
     "execution_count": 20,
     "metadata": {},
     "output_type": "execute_result"
    }
   ],
   "source": [
    "a=[[1,2],[2,1]]\n",
    "b=copy(a)\n",
    "a[1][2]=3\n",
    "b"
   ]
  },
  {
   "cell_type": "code",
   "execution_count": 1,
   "metadata": {},
   "outputs": [
    {
     "data": {
      "text/plain": [
       "2-element Array{Array{Int64,1},1}:\n",
       " [1, 2]\n",
       " [2, 1]"
      ]
     },
     "execution_count": 1,
     "metadata": {},
     "output_type": "execute_result"
    }
   ],
   "source": [
    "a=[[1,2],[2,1]]\n",
    "b=deepcopy(a)\n",
    "a[1][2]=3\n",
    "b"
   ]
  },
  {
   "cell_type": "code",
   "execution_count": 2,
   "metadata": {},
   "outputs": [
    {
     "data": {
      "text/plain": [
       "2-element Array{Array{Int64,1},1}:\n",
       " [1, 2]\n",
       " [2, 1]"
      ]
     },
     "execution_count": 2,
     "metadata": {},
     "output_type": "execute_result"
    }
   ],
   "source": [
    "a=[[1,2],[2,1]]\n",
    "b=deepcopy(a)\n",
    "a[1][2]=3\n",
    "b"
   ]
  }
 ],
 "metadata": {
  "kernelspec": {
   "display_name": "Julia 1.5.1",
   "language": "julia",
   "name": "julia-1.5"
  },
  "language_info": {
   "file_extension": ".jl",
   "mimetype": "application/julia",
   "name": "julia",
   "version": "1.5.2"
  }
 },
 "nbformat": 4,
 "nbformat_minor": 4
}
